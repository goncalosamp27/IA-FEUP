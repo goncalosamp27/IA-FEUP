{
 "cells": [
  {
   "cell_type": "markdown",
   "id": "51f11cc5",
   "metadata": {},
   "source": [
    "\n",
    "# **Artificial Intelligence  FEUP**\n",
    "## **2nd Assignment - Supervised Learning**\n",
    "### **3rd Year - 2nd Semester - 2024/2025**\n",
    "\n"
   ]
  },
  {
   "cell_type": "markdown",
   "id": "0bf45c61",
   "metadata": {},
   "source": [
    "# Import Libraries and Set Options\n",
    "\n",
    "Import necessary libraries for data handling, visualization, and machine learning.  \n",
    "Set pandas display options and seaborn plot style for better readability."
   ]
  },
  {
   "cell_type": "markdown",
   "id": "17f97d4e",
   "metadata": {},
   "source": [
    "- **pandas** for loading CSV files and handling structured data efficiently.\n",
    "- **NumPy** for fast numerical operations and array manipulations.\n",
    "- **matplotlib** and **seaborn** to visualize data and uncover patterns through charts and plots.\n",
    "- **scikit-learn** for machine learning tasks like splitting datasets, scaling features, training models, and measuring their performance with built-in metrics."
   ]
  },
  {
   "cell_type": "code",
   "execution_count": null,
   "id": "7d13c685",
   "metadata": {},
   "outputs": [],
   "source": [
    "import pandas as pd\n",
    "import numpy as np\n",
    "import matplotlib.pyplot as plt\n",
    "import seaborn as sns\n",
    "\n",
    "from sklearn.model_selection import train_test_split\n",
    "from sklearn.metrics import accuracy_score, precision_score, recall_score, f1_score, confusion_matrix\n",
    "from sklearn.preprocessing import StandardScaler\n",
    "\n",
    "sns.set_theme(style=\"whitegrid\")\n",
    "pd.set_option('display.max_columns', None)"
   ]
  },
  {
   "cell_type": "markdown",
   "id": "4882be35",
   "metadata": {},
   "source": [
    "# Load and Preview Dataset\n",
    "\n",
    "Load the dataset from a CSV file and take a quick look at the first few rows.  \n",
    "Also, check the shape, data types, and basic statistics of the dataset."
   ]
  },
  {
   "cell_type": "code",
   "execution_count": null,
   "id": "e1b13fac",
   "metadata": {},
   "outputs": [],
   "source": [
    "df = pd.read_csv('./original/train.csv')\n",
    "df.head()  # Preview dataset\n",
    "\n",
    "print(f\"Dataset shape: {df.shape}\")\n",
    "df.info()\n",
    "df.describe()"
   ]
  },
  {
   "cell_type": "markdown",
   "id": "3b6e4604",
   "metadata": {},
   "source": [
    "# Check and Handle Missing Values\n",
    "\n",
    "Identify if there are any missing values in the dataset.  \n",
    "If missing values exist, fill them with the median of the respective columns."
   ]
  },
  {
   "cell_type": "code",
   "execution_count": null,
   "id": "49cd06e5",
   "metadata": {},
   "outputs": [],
   "source": [
    "missing_total = df.isnull().sum().sum()\n",
    "print(f\"Valores em falta no dataset de treino: {missing_total}\")\n",
    "\n",
    "if missing_total > 0:\n",
    "    print(\"Preencher valores em falta com a mediana.\")\n",
    "    df = df.fillna(df.median(numeric_only=True))\n",
    "else:\n",
    "    print(\"Nenhum valor em falta encontrado.\")"
   ]
  },
  {
   "cell_type": "markdown",
   "id": "baf4f31b",
   "metadata": {},
   "source": [
    "# Exploratory Data Analysis (EDA)\n",
    "\n",
    "Visualize the distribution of the target variable (smoking).  \n",
    "Plot a correlation heatmap to understand relationships between numerical features."
   ]
  },
  {
   "cell_type": "code",
   "execution_count": null,
   "id": "10d8f12b",
   "metadata": {},
   "outputs": [],
   "source": [
    "# Distribution of smoking variable\n",
    "sns.countplot(x='smoking', data=df)\n",
    "plt.title(\"Smoker Status Distribution\")\n",
    "plt.xlabel(\"Smoker\")\n",
    "plt.ylabel(\"Count\")\n",
    "plt.show()\n",
    "\n",
    "# Correlation heatmap\n",
    "correlation_matrix = df.corr()\n",
    "plt.figure(figsize=(16, 12))\n",
    "sns.heatmap(correlation_matrix, annot=False, cmap='coolwarm')\n",
    "plt.title(\"Correlation Heatmap\")\n",
    "plt.show()"
   ]
  },
  {
   "cell_type": "markdown",
   "id": "eb0ced83",
   "metadata": {},
   "source": [
    "# Boxplots of Features by Smoking Status\n",
    "\n",
    "Create boxplots for selected features grouped by smoking status to identify patterns or differences."
   ]
  },
  {
   "cell_type": "code",
   "execution_count": null,
   "id": "b2ef1d5c",
   "metadata": {},
   "outputs": [],
   "source": [
    "features = ['age', 'height(cm)', 'weight(kg)', 'waist(cm)', 'eyesight(left)', 'eyesight(right)',\n",
    "            'hearing(left)', 'hearing(right)', 'systolic', 'relaxation', 'fasting blood sugar',\n",
    "            'Cholesterol', 'triglyceride', 'HDL', 'LDL', 'hemoglobin', 'Urine protein',\n",
    "            'serum creatinine', 'AST', 'ALT', 'Gtp', 'dental caries']\n",
    "\n",
    "for feature in features:\n",
    "    plt.figure(figsize=(8, 5))\n",
    "    sns.boxplot(x='smoking', y=feature, data=df)\n",
    "    plt.title(f\"{feature} by Smoking Status\")\n",
    "    plt.xlabel(\"Smoker\")\n",
    "    plt.ylabel(feature)\n",
    "    plt.tight_layout()\n",
    "    plt.show()"
   ]
  },
  {
   "cell_type": "markdown",
   "id": "5c5a2fa6",
   "metadata": {},
   "source": [
    "## Remove Irrelevant Features\n",
    "\n",
    "Based on the boxplots and visual inspection, some features show little to no difference between smoker and non-smoker groups.  \n",
    "These features will be removed to simplify the model and avoid noise.\n",
    "\n",
    "We drop the following irrelevant features:  \n",
    "`eyesight(left)`, `eyesight(right)`, `hearing(left)`, `hearing(right)`, and `dental caries`.\n"
   ]
  },
  {
   "cell_type": "code",
   "execution_count": null,
   "id": "d38359eb",
   "metadata": {},
   "outputs": [],
   "source": [
    "# List of irrelevant features to drop\n",
    "irrelevant_features = ['eyesight(left)', 'eyesight(right)', 'hearing(left)', 'hearing(right)', 'dental caries']\n",
    "\n",
    "# Drop irrelevant features\n",
    "df = df.drop(columns=irrelevant_features)\n",
    "\n",
    "# Verify the features were dropped\n",
    "print(\"Columns after dropping irrelevant features:\")\n",
    "print(df.columns)\n"
   ]
  },
  {
   "cell_type": "markdown",
   "id": "ff743948",
   "metadata": {},
   "source": [
    "## Remove Outliers (IQR Method)\n",
    "\n",
    "Based on the visual inspection above, we remove outliers from selected numeric features using the Interquartile Range (IQR) method.\n"
   ]
  },
  {
   "cell_type": "code",
   "execution_count": null,
   "id": "31c9d942",
   "metadata": {},
   "outputs": [],
   "source": [
    "# use IQR to filter out extreme values in numeric features\n",
    "numeric_features = ['age', 'height(cm)', 'weight(kg)', 'waist(cm)', 'systolic', 'relaxation',\n",
    "                    'fasting blood sugar', 'Cholesterol', 'triglyceride', 'HDL', 'LDL',\n",
    "                    'hemoglobin', 'serum creatinine', 'AST', 'ALT', 'Gtp']\n",
    "\n",
    "for feature in numeric_features:\n",
    "    Q1 = df[feature].quantile(0.25)\n",
    "    Q3 = df[feature].quantile(0.75)\n",
    "    IQR = Q3 - Q1\n",
    "    before = df.shape[0]\n",
    "    df = df[(df[feature] >= Q1 - 1.5 * IQR) & (df[feature] <= Q3 + 1.5 * IQR)]\n",
    "    after = df.shape[0]\n",
    "    print(f\"{feature}: removed {before - after} outliers\")\n"
   ]
  },
  {
   "cell_type": "markdown",
   "id": "187eec6a",
   "metadata": {},
   "source": [
    "# Data Cleaning and Splitting\n",
    "\n",
    "Remove unnecessary columns (like 'id').  \n",
    "Separate the dataset into features (X) and target variable (y)."
   ]
  },
  {
   "cell_type": "code",
   "execution_count": null,
   "id": "b9b6e508",
   "metadata": {},
   "outputs": [],
   "source": [
    "df = df.drop(columns=['id'])  # Drop id column\n",
    "X = df.drop(columns=['smoking'])  # Features\n",
    "y = df['smoking']  # Target variable"
   ]
  },
  {
   "cell_type": "markdown",
   "id": "c282dcc2",
   "metadata": {},
   "source": [
    "# Feature Scaling\n",
    "\n",
    "Normalize the feature data using standardization (mean=0, std=1) to improve model performance."
   ]
  },
  {
   "cell_type": "code",
   "execution_count": null,
   "id": "5c4d114c",
   "metadata": {},
   "outputs": [],
   "source": [
    "scaler = StandardScaler()\n",
    "X_scaled = scaler.fit_transform(X)"
   ]
  },
  {
   "cell_type": "markdown",
   "id": "c7f2b88f",
   "metadata": {},
   "source": [
    "# Train-Test Split\n",
    "\n",
    "Split the data into training and testing sets with stratification to maintain class distribution."
   ]
  },
  {
   "cell_type": "code",
   "execution_count": null,
   "id": "24d207ac",
   "metadata": {},
   "outputs": [],
   "source": [
    "X_train, X_test, y_train, y_test = train_test_split(\n",
    "    X_scaled, y, test_size=0.2, random_state=42, stratify=y)"
   ]
  }
 ],
 "metadata": {
  "kernelspec": {
   "display_name": "Python 3 (ipykernel)",
   "language": "python",
   "name": "python3"
  },
  "language_info": {
   "codemirror_mode": {
    "name": "ipython",
    "version": 3
   },
   "file_extension": ".py",
   "mimetype": "text/x-python",
   "name": "python",
   "nbconvert_exporter": "python",
   "pygments_lexer": "ipython3",
   "version": "3.9.12"
  }
 },
 "nbformat": 4,
 "nbformat_minor": 5
}
